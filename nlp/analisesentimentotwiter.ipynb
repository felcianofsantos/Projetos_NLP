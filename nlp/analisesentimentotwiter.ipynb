{
 "cells": [
  {
   "cell_type": "code",
   "execution_count": null,
   "metadata": {},
   "outputs": [],
   "source": [
    "#!pip install tweepy\n",
    "#!pip install textblob\n",
    "#!pip install googletrans\n",
    "#!pip install unidecode\n",
    "import tweepy\n",
    "from textblob import TextBlob\n",
    "from googletrans import Translator\n",
    "from unidecode import unidecode"
   ]
  },
  {
   "cell_type": "code",
   "execution_count": null,
   "metadata": {},
   "outputs": [],
   "source": [
    "#Tokens de acesso\n",
    "consumer_key= 'OWCpd3LpLqIs3FY5lylzUqMt4'\n",
    "consumer_secret= 'v0tk6XyUtznhhjBueoYohC91Vrc51PSScBN1KgnRLsX0fwNGxP'\n",
    "access_token='482477050-7gDPkAKeAsO5OT3WIxEAR5CAo1P5PDx47mq6H1DU'\n",
    "access_token_secret='LJ6Ct9ti9T9ZaqjPKvj03sNPXzAjA00o38l7NJNzw2qfU'\n",
    "#Autenticando\n",
    "auth = tweepy.OAuthHandler(consumer_key, consumer_secret)\n",
    "auth.set_access_token(access_token, access_token_secret)\n",
    "api = tweepy.API(auth,wait_on_rate_limit=True)"
   ]
  },
  {
   "cell_type": "code",
   "execution_count": null,
   "metadata": {},
   "outputs": [],
   "source": [
    "#Contadores\n",
    "numPos = 0\n",
    "numNeg = 0\n",
    "total = 0"
   ]
  },
  {
   "cell_type": "code",
   "execution_count": null,
   "metadata": {},
   "outputs": [],
   "source": [
    "for tweet in tweepy.Cursor(api.search,q=\"Eduardo Leite\", since = '2017-01-01',lang=\"pt\").items(100):\n",
    "    #Texto do Tweet\n",
    "    textPT = unidecode(tweet.text) \n",
    "    #Traduzindo para o Inglês\n",
    "    textEN = Translator().translate(textPT)\n",
    "    sentiment = TextBlob(textEN.text)\n",
    "     #Exibindo...\n",
    "    print(\"[PT-BR] \"+textPT)\n",
    "    print(\"[EN]    \"+textEN.text)\n",
    "    print(\"[Sent.] \"+str(sentiment.polarity)+\"\\n\")\n",
    "    #Estatísticas\n",
    "    total += 1\n",
    "    if sentiment.polarity > 0: \n",
    "        numPos += 1 \n",
    "    elif sentiment.polarity < 0: \n",
    "        numNeg += 1\n",
    "  \n"
   ]
  },
  {
   "cell_type": "code",
   "execution_count": null,
   "metadata": {},
   "outputs": [],
   "source": [
    "mediaPos = numPos/total\n",
    "mediaNeg = numNeg/total\n",
    "print('Porcentagem de comentários positivos: '+str(mediaPos))\n",
    "print('Porcentagem de comentários negativos: '+str(mediaNeg))"
   ]
  },
  {
   "cell_type": "code",
   "execution_count": null,
   "metadata": {},
   "outputs": [],
   "source": [
    "total"
   ]
  },
  {
   "cell_type": "code",
   "execution_count": null,
   "metadata": {},
   "outputs": [],
   "source": [
    "textPT[37]"
   ]
  },
  {
   "cell_type": "code",
   "execution_count": null,
   "metadata": {},
   "outputs": [],
   "source": [
    "textEN[2]"
   ]
  },
  {
   "cell_type": "code",
   "execution_count": null,
   "metadata": {},
   "outputs": [],
   "source": []
  }
 ],
 "metadata": {
  "kernelspec": {
   "display_name": "Python 3",
   "language": "python",
   "name": "python3"
  },
  "language_info": {
   "codemirror_mode": {
    "name": "ipython",
    "version": 3
   },
   "file_extension": ".py",
   "mimetype": "text/x-python",
   "name": "python",
   "nbconvert_exporter": "python",
   "pygments_lexer": "ipython3",
   "version": "3.7.6"
  }
 },
 "nbformat": 4,
 "nbformat_minor": 4
}
