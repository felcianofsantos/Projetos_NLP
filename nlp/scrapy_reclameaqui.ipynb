{
 "cells": [
  {
   "cell_type": "code",
   "execution_count": null,
   "metadata": {},
   "outputs": [],
   "source": [
    "## esse programa foi copiado do site: https://phelipetls.github.io/web-scraping-de-paginas-dinamicas\n",
    "\n",
    "from time import sleep\n",
    "from selenium import webdriver\n",
    "from bs4 import BeautifulSoup as bs\n",
    "import pandas as pd\n",
    "\n",
    "class ReclameAqui:\n",
    "\n",
    "    base_url = \"https://www.reclameaqui.com.br/empresa/\"\n",
    "\n",
    "    def __init__(self, driver, empresa):\n",
    "        self.driver = driver\n",
    "        self.empresa = empresa\n",
    "\n",
    "    def extrair_informacoes(self, n_paginas):\n",
    "        url = self.base_url + self.empresa + \"/lista-reclamacoes/?pagina=\"\n",
    "        self.reclamacoes, self.titulos, self.links = [], [], []\n",
    "\n",
    "        for i in range(1, n_paginas + 1):\n",
    "            self.driver.get(url + str(i+10))\n",
    "            sleep(3)\n",
    "            html = bs(self.driver.page_source, \"html.parser\")\n",
    "\n",
    "            reclamacoes_html = html.find_all(\"p\", {\"class\": \"text-detail\"})\n",
    "            reclamacoes_na_pagina = [reclamacao.text.split(\"|\") for reclamacao in reclamacoes_html]\n",
    "            self.reclamacoes.extend(reclamacoes_na_pagina)\n",
    "\n",
    "            titulos_e_links = html.find_all(\"a\", {\"class\": \"link-complain-id-complains\"})\n",
    "            self.titulos.extend([titulo.text.strip() for titulo in titulos_e_links])\n",
    "            self.links.extend([link.get(\"href\") for link in titulos_e_links])\n",
    "\n",
    "    def extrair_descricoes(self):\n",
    "        urls = [self.base_url + link[1:] for link in self.links]\n",
    "        self.descricoes = []\n",
    "        for url in urls:\n",
    "            self.driver.get(url)\n",
    "            sleep(3)\n",
    "            html = bs(self.driver.page_source, \"html.parser\")\n",
    "            descricao = html.find(\"div\", {\"class\": \"complain-body\"}).text.strip()\n",
    "            self.descricoes.append(descricao)"
   ]
  },
  {
   "cell_type": "code",
   "execution_count": 23,
   "metadata": {},
   "outputs": [],
   "source": [
    "globo_url = \"americanas-com-loja-online\"\n",
    "globo = ReclameAqui(webdriver.Firefox(), globo_url)\n",
    "# esses métodos extraem o status, título e link\n",
    "# e há quanto tempo foi feita a reclamação,\n",
    "# mais a cidade do reclamante.\n",
    "# todas são armazenadas como atributos da classe:\n",
    "globo.extrair_informacoes(2) # 10 é o número das páginas\n",
    "globo.extrair_descricoes()\n",
    "\n",
    "# juntando tudo em um dataframe:\n",
    "\n",
    "globo_df = pd.concat(\n",
    "    [\n",
    "        pd.DataFrame(globo.reclamacoes, columns=[\"status\", \"periodo\", \"cidade\"]),\n",
    "        pd.Series(globo.descricoes, name=\"descricao\"),\n",
    "        pd.Series(globo.titulos, name=\"titulo\"),\n",
    "    ],\n",
    "    axis=\"columns\",\n",
    ")\n",
    "\n",
    "# limpando os campos que vêm com espaços supérfluos dos lados\n",
    "colunas_com_espaco = [\"status\", \"periodo\", \"cidade\"]\n",
    "globo_df.loc[:, colunas_com_espaco] = globo_df.loc[:, colunas_com_espaco].apply(lambda x: x.str.strip())"
   ]
  },
  {
   "cell_type": "code",
   "execution_count": 25,
   "metadata": {},
   "outputs": [
    {
     "data": {
      "text/html": [
       "<div>\n",
       "<style scoped>\n",
       "    .dataframe tbody tr th:only-of-type {\n",
       "        vertical-align: middle;\n",
       "    }\n",
       "\n",
       "    .dataframe tbody tr th {\n",
       "        vertical-align: top;\n",
       "    }\n",
       "\n",
       "    .dataframe thead th {\n",
       "        text-align: right;\n",
       "    }\n",
       "</style>\n",
       "<table border=\"1\" class=\"dataframe\">\n",
       "  <thead>\n",
       "    <tr style=\"text-align: right;\">\n",
       "      <th></th>\n",
       "      <th>status</th>\n",
       "      <th>periodo</th>\n",
       "      <th>cidade</th>\n",
       "      <th>descricao</th>\n",
       "      <th>titulo</th>\n",
       "    </tr>\n",
       "  </thead>\n",
       "  <tbody>\n",
       "    <tr>\n",
       "      <th>15</th>\n",
       "      <td>Não respondida</td>\n",
       "      <td>Há 3 horas</td>\n",
       "      <td>São Paulo</td>\n",
       "      <td>Fiz um pedido dia 17 no site das americanas e ...</td>\n",
       "      <td>Sem nota fiscal</td>\n",
       "    </tr>\n",
       "    <tr>\n",
       "      <th>16</th>\n",
       "      <td>Não respondida</td>\n",
       "      <td>Há 3 horas</td>\n",
       "      <td>Salvador</td>\n",
       "      <td>Prezados,Estou sendo, neste exato momento, vít...</td>\n",
       "      <td>[Editado pelo Reclame Aqui] - AMERICANAS - TEN...</td>\n",
       "    </tr>\n",
       "    <tr>\n",
       "      <th>17</th>\n",
       "      <td>Não respondida</td>\n",
       "      <td>Há 3 horas</td>\n",
       "      <td>Recife</td>\n",
       "      <td>Mercadoria foi enviada divergenteComprei o cel...</td>\n",
       "      <td>Mercadoria recebida diferente da comprada</td>\n",
       "    </tr>\n",
       "    <tr>\n",
       "      <th>18</th>\n",
       "      <td>Não respondida</td>\n",
       "      <td>Há 3 horas</td>\n",
       "      <td>São Paulo</td>\n",
       "      <td>Efetuei compra pelo site com retirada em uma l...</td>\n",
       "      <td>Produto ruim e demora no atendimento</td>\n",
       "    </tr>\n",
       "    <tr>\n",
       "      <th>19</th>\n",
       "      <td>Não respondida</td>\n",
       "      <td>Há 3 horas</td>\n",
       "      <td>Guarulhos</td>\n",
       "      <td>Em março comprei a cômoda london, em abril rec...</td>\n",
       "      <td>Cômoda faltando peças.</td>\n",
       "    </tr>\n",
       "  </tbody>\n",
       "</table>\n",
       "</div>"
      ],
      "text/plain": [
       "            status     periodo     cidade  \\\n",
       "15  Não respondida  Há 3 horas  São Paulo   \n",
       "16  Não respondida  Há 3 horas   Salvador   \n",
       "17  Não respondida  Há 3 horas     Recife   \n",
       "18  Não respondida  Há 3 horas  São Paulo   \n",
       "19  Não respondida  Há 3 horas  Guarulhos   \n",
       "\n",
       "                                            descricao  \\\n",
       "15  Fiz um pedido dia 17 no site das americanas e ...   \n",
       "16  Prezados,Estou sendo, neste exato momento, vít...   \n",
       "17  Mercadoria foi enviada divergenteComprei o cel...   \n",
       "18  Efetuei compra pelo site com retirada em uma l...   \n",
       "19  Em março comprei a cômoda london, em abril rec...   \n",
       "\n",
       "                                               titulo  \n",
       "15                                    Sem nota fiscal  \n",
       "16  [Editado pelo Reclame Aqui] - AMERICANAS - TEN...  \n",
       "17          Mercadoria recebida diferente da comprada  \n",
       "18               Produto ruim e demora no atendimento  \n",
       "19                             Cômoda faltando peças.  "
      ]
     },
     "execution_count": 25,
     "metadata": {},
     "output_type": "execute_result"
    }
   ],
   "source": [
    "globo_df.tail()\n"
   ]
  },
  {
   "cell_type": "code",
   "execution_count": 9,
   "metadata": {},
   "outputs": [],
   "source": [
    "globo_df.to_csv(\"dadosame.csv\")"
   ]
  },
  {
   "cell_type": "code",
   "execution_count": 10,
   "metadata": {},
   "outputs": [
    {
     "data": {
      "text/plain": [
       "0     [efetuei, a, compra, de, um, celular, moto, g7...\n",
       "1     [comprei, um, porta, canetas, o, qual, deveria...\n",
       "2     [comprei, o, fogão, à, vista, no, cartão, créd...\n",
       "3     [fiz, um, pedido, na, loja, americanas, prazo,...\n",
       "4     [fiz, um, pedido, no, site, da, americanas, em...\n",
       "5     [comprei, um, relógio, smartwatcch, mas, veio,...\n",
       "6     [realizei, uma, de, um, robo, aspirador, mondi...\n",
       "7     [boa, noite, fiz, uma, compra, nas, lojas, a, ...\n",
       "8     [boa, noite, estou, tentando, cancelar, pelo, ...\n",
       "9     [no, dia, 03/05/2020, fiz, no, site, das, loja...\n",
       "10    [comprei, o, painel, para, tv, 32polegadas, pe...\n",
       "11    [fiz, um, pedido, de, 2, cadeiras, pretas, em,...\n",
       "12    [efetuei, uma, compra, no, dia, 16/04/2020, no...\n",
       "13    [fiz, um, pedido, no, site, das, americanas, c...\n",
       "14    [comprei, dia, 16, de, abril, e, não, recebi, ...\n",
       "15    [no, site, informam, que, os, produtos, seriam...\n",
       "16    [comprei, uma, mochila, no, site, americanas, ...\n",
       "17    [fiz, o, pedido, de, uma, boneca, no, site, di...\n",
       "18    [desejo, comprar, uma, televisão, smart, e, ap...\n",
       "19    [pedi, um, kit, de, máscaras, dia, 28, de, abr...\n",
       "Name: descricao, dtype: object"
      ]
     },
     "execution_count": 10,
     "metadata": {},
     "output_type": "execute_result"
    }
   ],
   "source": [
    "palavras = globo_df.descricao.str.lower().str.replace(\"[!?:;.,]\", \"\").str.split()\n",
    "\n",
    "palavras"
   ]
  },
  {
   "cell_type": "code",
   "execution_count": 11,
   "metadata": {},
   "outputs": [
    {
     "data": {
      "text/html": [
       "<div>\n",
       "<style scoped>\n",
       "    .dataframe tbody tr th:only-of-type {\n",
       "        vertical-align: middle;\n",
       "    }\n",
       "\n",
       "    .dataframe tbody tr th {\n",
       "        vertical-align: top;\n",
       "    }\n",
       "\n",
       "    .dataframe thead th {\n",
       "        text-align: right;\n",
       "    }\n",
       "</style>\n",
       "<table border=\"1\" class=\"dataframe\">\n",
       "  <thead>\n",
       "    <tr style=\"text-align: right;\">\n",
       "      <th></th>\n",
       "      <th>status</th>\n",
       "      <th>periodo</th>\n",
       "      <th>cidade</th>\n",
       "      <th>descricao</th>\n",
       "      <th>titulo</th>\n",
       "      <th>palavras</th>\n",
       "    </tr>\n",
       "  </thead>\n",
       "  <tbody>\n",
       "    <tr>\n",
       "      <th>0</th>\n",
       "      <td>Não respondida</td>\n",
       "      <td>Há 18 minutos</td>\n",
       "      <td>São Paulo</td>\n",
       "      <td>Efetuei a compra de um celular Moto G7 Plus pe...</td>\n",
       "      <td>NÃO RECEBO MEU PEDIDO</td>\n",
       "      <td>efetuei</td>\n",
       "    </tr>\n",
       "    <tr>\n",
       "      <th>0</th>\n",
       "      <td>Não respondida</td>\n",
       "      <td>Há 18 minutos</td>\n",
       "      <td>São Paulo</td>\n",
       "      <td>Efetuei a compra de um celular Moto G7 Plus pe...</td>\n",
       "      <td>NÃO RECEBO MEU PEDIDO</td>\n",
       "      <td>a</td>\n",
       "    </tr>\n",
       "    <tr>\n",
       "      <th>0</th>\n",
       "      <td>Não respondida</td>\n",
       "      <td>Há 18 minutos</td>\n",
       "      <td>São Paulo</td>\n",
       "      <td>Efetuei a compra de um celular Moto G7 Plus pe...</td>\n",
       "      <td>NÃO RECEBO MEU PEDIDO</td>\n",
       "      <td>compra</td>\n",
       "    </tr>\n",
       "    <tr>\n",
       "      <th>0</th>\n",
       "      <td>Não respondida</td>\n",
       "      <td>Há 18 minutos</td>\n",
       "      <td>São Paulo</td>\n",
       "      <td>Efetuei a compra de um celular Moto G7 Plus pe...</td>\n",
       "      <td>NÃO RECEBO MEU PEDIDO</td>\n",
       "      <td>de</td>\n",
       "    </tr>\n",
       "    <tr>\n",
       "      <th>0</th>\n",
       "      <td>Não respondida</td>\n",
       "      <td>Há 18 minutos</td>\n",
       "      <td>São Paulo</td>\n",
       "      <td>Efetuei a compra de um celular Moto G7 Plus pe...</td>\n",
       "      <td>NÃO RECEBO MEU PEDIDO</td>\n",
       "      <td>um</td>\n",
       "    </tr>\n",
       "  </tbody>\n",
       "</table>\n",
       "</div>"
      ],
      "text/plain": [
       "           status        periodo     cidade  \\\n",
       "0  Não respondida  Há 18 minutos  São Paulo   \n",
       "0  Não respondida  Há 18 minutos  São Paulo   \n",
       "0  Não respondida  Há 18 minutos  São Paulo   \n",
       "0  Não respondida  Há 18 minutos  São Paulo   \n",
       "0  Não respondida  Há 18 minutos  São Paulo   \n",
       "\n",
       "                                           descricao                 titulo  \\\n",
       "0  Efetuei a compra de um celular Moto G7 Plus pe...  NÃO RECEBO MEU PEDIDO   \n",
       "0  Efetuei a compra de um celular Moto G7 Plus pe...  NÃO RECEBO MEU PEDIDO   \n",
       "0  Efetuei a compra de um celular Moto G7 Plus pe...  NÃO RECEBO MEU PEDIDO   \n",
       "0  Efetuei a compra de um celular Moto G7 Plus pe...  NÃO RECEBO MEU PEDIDO   \n",
       "0  Efetuei a compra de um celular Moto G7 Plus pe...  NÃO RECEBO MEU PEDIDO   \n",
       "\n",
       "  palavras  \n",
       "0  efetuei  \n",
       "0        a  \n",
       "0   compra  \n",
       "0       de  \n",
       "0       um  "
      ]
     },
     "execution_count": 11,
     "metadata": {},
     "output_type": "execute_result"
    }
   ],
   "source": [
    "globo_df = globo_df.assign(palavras = palavras).explode(\"palavras\")\n",
    "\n",
    "globo_df.head()"
   ]
  },
  {
   "cell_type": "code",
   "execution_count": 12,
   "metadata": {},
   "outputs": [],
   "source": [
    "#! pip install nltk"
   ]
  },
  {
   "cell_type": "code",
   "execution_count": 13,
   "metadata": {},
   "outputs": [
    {
     "data": {
      "image/png": "[encoded data removed]",
      "text/plain": [
       "<Figure size 648x216 with 1 Axes>"
      ]
     },
     "metadata": {
      "needs_background": "light"
     },
     "output_type": "display_data"
    }
   ],
   "source": [
    "import seaborn as sns\n",
    "import matplotlib.pyplot as plt\n",
    "from nltk.corpus import stopwords\n",
    "\n",
    "globo_df = globo_df.query('palavras not in @stopwords.words(\"portuguese\")')\n",
    "\n",
    "globo_df['count_per_status'] = globo_df.groupby(['palavras', 'status']).palavras.transform('size')\n",
    "\n",
    "fct = globo_df\\\n",
    "    .groupby([\"status\"], as_index=False)\\\n",
    "    .apply(lambda x: x.drop_duplicates(\"palavras\").nlargest(20, \"count_per_status\"))[::-1]\\\n",
    "    .pipe((sns.FacetGrid, \"data\"), col=\"status\", hue=\"status\", sharey=False, col_wrap=3)\n",
    "\n",
    "fct.map(plt.barh, \"palavras\", \"count_per_status\")\n",
    "\n",
    "plt.subplots_adjust(top=0.9)\n",
    "\n",
    "plt.suptitle(\"20 palavras mais frequentes por status da reclamação\")\n",
    "\n",
    "plt.show()"
   ]
  },
  {
   "cell_type": "code",
   "execution_count": 14,
   "metadata": {},
   "outputs": [
    {
     "data": {
      "text/html": [
       "<div>\n",
       "<style scoped>\n",
       "    .dataframe tbody tr th:only-of-type {\n",
       "        vertical-align: middle;\n",
       "    }\n",
       "\n",
       "    .dataframe tbody tr th {\n",
       "        vertical-align: top;\n",
       "    }\n",
       "\n",
       "    .dataframe thead th {\n",
       "        text-align: right;\n",
       "    }\n",
       "</style>\n",
       "<table border=\"1\" class=\"dataframe\">\n",
       "  <thead>\n",
       "    <tr style=\"text-align: right;\">\n",
       "      <th></th>\n",
       "      <th>item1</th>\n",
       "      <th>item2</th>\n",
       "      <th>correlation</th>\n",
       "    </tr>\n",
       "  </thead>\n",
       "  <tbody>\n",
       "    <tr>\n",
       "      <th>1402</th>\n",
       "      <td>lojas</td>\n",
       "      <td>aguardo</td>\n",
       "      <td>0.881917</td>\n",
       "    </tr>\n",
       "    <tr>\n",
       "      <th>128</th>\n",
       "      <td>aguardo</td>\n",
       "      <td>lojas</td>\n",
       "      <td>0.881917</td>\n",
       "    </tr>\n",
       "    <tr>\n",
       "      <th>1476</th>\n",
       "      <td>nao</td>\n",
       "      <td>ja</td>\n",
       "      <td>0.793492</td>\n",
       "    </tr>\n",
       "    <tr>\n",
       "      <th>1329</th>\n",
       "      <td>ja</td>\n",
       "      <td>nao</td>\n",
       "      <td>0.793492</td>\n",
       "    </tr>\n",
       "    <tr>\n",
       "      <th>43</th>\n",
       "      <td>3</td>\n",
       "      <td>resposta</td>\n",
       "      <td>0.727607</td>\n",
       "    </tr>\n",
       "    <tr>\n",
       "      <th>2150</th>\n",
       "      <td>resposta</td>\n",
       "      <td>3</td>\n",
       "      <td>0.727607</td>\n",
       "    </tr>\n",
       "    <tr>\n",
       "      <th>314</th>\n",
       "      <td>atendimento</td>\n",
       "      <td>consigo</td>\n",
       "      <td>0.687500</td>\n",
       "    </tr>\n",
       "    <tr>\n",
       "      <th>706</th>\n",
       "      <td>consigo</td>\n",
       "      <td>atendimento</td>\n",
       "      <td>0.687500</td>\n",
       "    </tr>\n",
       "    <tr>\n",
       "      <th>309</th>\n",
       "      <td>atendimento</td>\n",
       "      <td>cartão</td>\n",
       "      <td>0.687500</td>\n",
       "    </tr>\n",
       "    <tr>\n",
       "      <th>709</th>\n",
       "      <td>consigo</td>\n",
       "      <td>cartão</td>\n",
       "      <td>0.687500</td>\n",
       "    </tr>\n",
       "  </tbody>\n",
       "</table>\n",
       "</div>"
      ],
      "text/plain": [
       "            item1        item2  correlation\n",
       "1402        lojas      aguardo     0.881917\n",
       "128       aguardo        lojas     0.881917\n",
       "1476          nao           ja     0.793492\n",
       "1329           ja          nao     0.793492\n",
       "43              3     resposta     0.727607\n",
       "2150     resposta            3     0.727607\n",
       "314   atendimento      consigo     0.687500\n",
       "706       consigo  atendimento     0.687500\n",
       "309   atendimento       cartão     0.687500\n",
       "709       consigo       cartão     0.687500"
      ]
     },
     "execution_count": 14,
     "metadata": {},
     "output_type": "execute_result"
    }
   ],
   "source": [
    "import networkx as nx\n",
    "\n",
    "# criando tabela de correlações entre pares de palavras\n",
    "# que aparecem no mínimo 15 vezes no total\n",
    "\n",
    "correlations = (\n",
    "    globo_df.palavras.reset_index()\n",
    "    .assign(total_count=lambda x: x.groupby(\"palavras\").palavras.transform(\"size\"))\n",
    "    .query(\"total_count >= 5\")\n",
    "    .drop(columns=\"total_count\")\n",
    "    .pivot_table(index=\"index\", columns=\"palavras\", aggfunc=lambda x: 1, fill_value=0)\n",
    "    .corr()\n",
    "    .unstack()\n",
    "    .rename_axis([\"item1\", \"item2\"])\n",
    "    .reset_index(name=\"correlation\")\n",
    "    .query(\"correlation != 1\")\n",
    "    .sort_values(\"correlation\", ascending=False)\n",
    ")\n",
    "\n",
    "correlations.head(10)"
   ]
  },
  {
   "cell_type": "code",
   "execution_count": 15,
   "metadata": {},
   "outputs": [
    {
     "data": {
      "image/png": "[encoded data removed]",
      "text/plain": [
       "<Figure size 432x288 with 1 Axes>"
      ]
     },
     "metadata": {},
     "output_type": "display_data"
    }
   ],
   "source": [
    "# criando grafo a partir do dataframe\n",
    "G = nx.from_pandas_edgelist(correlations.head(100), \"item1\", \"item2\", \"correlation\")\n",
    "\n",
    "# pesos dos vértices (no caso, as correlações)\n",
    "weights = (\n",
    "    pd.DataFrame(G.edges, columns=[\"item1\", \"item2\"])\n",
    "    .merge(correlations, on=[\"item1\", \"item2\"])\n",
    "    .correlation.values\n",
    ")\n",
    "\n",
    "# visualizar os nós e vértices separados\n",
    "# de acordo com o algoritmo de Kamada & Kawai\n",
    "nx.draw_kamada_kawai(\n",
    "    G, with_labels=True, edge_color=weights, width=2, edge_cmap=plt.cm.Blues, node_size=500\n",
    ")\n",
    "\n",
    "plt.show()"
   ]
  },
  {
   "cell_type": "code",
   "execution_count": 16,
   "metadata": {},
   "outputs": [
    {
     "data": {
      "text/html": [
       "<div>\n",
       "<style scoped>\n",
       "    .dataframe tbody tr th:only-of-type {\n",
       "        vertical-align: middle;\n",
       "    }\n",
       "\n",
       "    .dataframe tbody tr th {\n",
       "        vertical-align: top;\n",
       "    }\n",
       "\n",
       "    .dataframe thead th {\n",
       "        text-align: right;\n",
       "    }\n",
       "</style>\n",
       "<table border=\"1\" class=\"dataframe\">\n",
       "  <thead>\n",
       "    <tr style=\"text-align: right;\">\n",
       "      <th></th>\n",
       "      <th>0</th>\n",
       "    </tr>\n",
       "  </thead>\n",
       "  <tbody>\n",
       "    <tr>\n",
       "      <th>0</th>\n",
       "      <td>à-vontade,à-vontade.PoS=N;FLEX=ms;TG=HUM:N0;PO...</td>\n",
       "    </tr>\n",
       "    <tr>\n",
       "      <th>1</th>\n",
       "      <td>abafada,abafado.PoS=Adj;FLEX=fs;TG=HUM:N0;POL:...</td>\n",
       "    </tr>\n",
       "    <tr>\n",
       "      <th>2</th>\n",
       "      <td>abafadas,abafado.PoS=Adj;FLEX=fp;TG=HUM:N0;POL...</td>\n",
       "    </tr>\n",
       "    <tr>\n",
       "      <th>3</th>\n",
       "      <td>abafado,abafado.PoS=Adj;FLEX=ms;TG=HUM:N0;POL:...</td>\n",
       "    </tr>\n",
       "    <tr>\n",
       "      <th>4</th>\n",
       "      <td>abafados,abafado.PoS=Adj;FLEX=mp;TG=HUM:N0;POL...</td>\n",
       "    </tr>\n",
       "    <tr>\n",
       "      <th>...</th>\n",
       "      <td>...</td>\n",
       "    </tr>\n",
       "    <tr>\n",
       "      <th>82342</th>\n",
       "      <td>zotes,zote.PoS=Adj;FLEX=fp|mp;TG=HUM:N0;POL:N0...</td>\n",
       "    </tr>\n",
       "    <tr>\n",
       "      <th>82343</th>\n",
       "      <td>zumbidor,zumbidor.PoS=Adj;FLEX=ms;TG=HUM:N0;PO...</td>\n",
       "    </tr>\n",
       "    <tr>\n",
       "      <th>82344</th>\n",
       "      <td>zumbidora,zumbidor.PoS=Adj;FLEX=fs;TG=HUM:N0;P...</td>\n",
       "    </tr>\n",
       "    <tr>\n",
       "      <th>82345</th>\n",
       "      <td>zumbidoras,zumbidor.PoS=Adj;FLEX=fp;TG=HUM:N0;...</td>\n",
       "    </tr>\n",
       "    <tr>\n",
       "      <th>82346</th>\n",
       "      <td>zumbidores,zumbidor.PoS=Adj;FLEX=mp;TG=HUM:N0;...</td>\n",
       "    </tr>\n",
       "  </tbody>\n",
       "</table>\n",
       "<p>82347 rows × 1 columns</p>\n",
       "</div>"
      ],
      "text/plain": [
       "                                                       0\n",
       "0      à-vontade,à-vontade.PoS=N;FLEX=ms;TG=HUM:N0;PO...\n",
       "1      abafada,abafado.PoS=Adj;FLEX=fs;TG=HUM:N0;POL:...\n",
       "2      abafadas,abafado.PoS=Adj;FLEX=fp;TG=HUM:N0;POL...\n",
       "3      abafado,abafado.PoS=Adj;FLEX=ms;TG=HUM:N0;POL:...\n",
       "4      abafados,abafado.PoS=Adj;FLEX=mp;TG=HUM:N0;POL...\n",
       "...                                                  ...\n",
       "82342  zotes,zote.PoS=Adj;FLEX=fp|mp;TG=HUM:N0;POL:N0...\n",
       "82343  zumbidor,zumbidor.PoS=Adj;FLEX=ms;TG=HUM:N0;PO...\n",
       "82344  zumbidora,zumbidor.PoS=Adj;FLEX=fs;TG=HUM:N0;P...\n",
       "82345  zumbidoras,zumbidor.PoS=Adj;FLEX=fp;TG=HUM:N0;...\n",
       "82346  zumbidores,zumbidor.PoS=Adj;FLEX=mp;TG=HUM:N0;...\n",
       "\n",
       "[82347 rows x 1 columns]"
      ]
     },
     "execution_count": 16,
     "metadata": {},
     "output_type": "execute_result"
    }
   ],
   "source": [
    "# lendo o arquivo do lexicon\n",
    "lexicon = pd.read_fwf(\n",
    "    \"~/SentiLex-PT02/SentiLex-flex-PT02.txt\", header=None\n",
    ")\n",
    "\n",
    "lexicon"
   ]
  },
  {
   "cell_type": "code",
   "execution_count": 17,
   "metadata": {},
   "outputs": [],
   "source": [
    "# dando nome à coluna\n",
    "lexicon.columns = [\"palavras\"]\n",
    "\n",
    "# extraindo cada palavras e sua polaridade/sentimento\n",
    "# o padrão ?P<X> serve para dar nome ao grupo\n",
    "lexicon = lexicon.palavras.str.extract(\n",
    "    r\"(?P<palavras>[\\w\\-, ]+)\\..*POL:N0=(?P<polaridade>-?\\d)\"\n",
    ")"
   ]
  },
  {
   "cell_type": "code",
   "execution_count": 18,
   "metadata": {},
   "outputs": [],
   "source": [
    "# separando cada palavra\n",
    "lexicon = lexicon.assign(palavras = lexicon.palavras.str.split(\",\")).explode(\"palavras\")\n",
    "\n",
    "lexicon.to_csv(\"Sentilex-PT-FLEX.csv\")"
   ]
  },
  {
   "cell_type": "code",
   "execution_count": 19,
   "metadata": {},
   "outputs": [
    {
     "data": {
      "text/plain": [
       "status              0.000000\n",
       "periodo             0.000000\n",
       "cidade              0.000000\n",
       "descricao           0.000000\n",
       "titulo              0.000000\n",
       "palavras            0.000000\n",
       "count_per_status    0.000000\n",
       "polaridade          0.775545\n",
       "dtype: float64"
      ]
     },
     "execution_count": 19,
     "metadata": {},
     "output_type": "execute_result"
    }
   ],
   "source": [
    "globo_palavras = globo_df.merge(lexicon, how=\"left\", on=\"palavras\")\n",
    "globo_palavras.isna().mean()"
   ]
  },
  {
   "cell_type": "code",
   "execution_count": 20,
   "metadata": {},
   "outputs": [
    {
     "data": {
      "image/png": "[encoded data removed]",
      "text/plain": [
       "<Figure size 432x288 with 1 Axes>"
      ]
     },
     "metadata": {
      "needs_background": "light"
     },
     "output_type": "display_data"
    }
   ],
   "source": [
    "globo_palavras[\"polaridade\"] = globo_palavras.polaridade.astype(\"float64\")\n",
    "\n",
    "(\n",
    "    globo_palavras.groupby([\"status\", \"polaridade\"])\n",
    "    .size()\n",
    "    .unstack()\n",
    "    .plot.bar(\n",
    "        rot=45,\n",
    "        title=\"Sentimentos das palavras por status da reclamação\",\n",
    "    )\n",
    ")\n",
    "\n",
    "plt.tight_layout()\n",
    "plt.show()"
   ]
  },
  {
   "cell_type": "code",
   "execution_count": 21,
   "metadata": {},
   "outputs": [
    {
     "data": {
      "image/png": "[encoded data removed]",
      "text/plain": [
       "<Figure size 648x216 with 3 Axes>"
      ]
     },
     "metadata": {
      "needs_background": "light"
     },
     "output_type": "display_data"
    }
   ],
   "source": [
    "import numpy as np\n",
    "\n",
    "globo_palavras[\"sentimento\"] = np.select(\n",
    "    [\n",
    "        globo_palavras.polaridade == 1,\n",
    "        globo_palavras.polaridade == 0,\n",
    "        globo_palavras.polaridade == -1,\n",
    "    ],\n",
    "    [\"positivo\", \"neutro\", \"negativo\"],\n",
    "    default = \"ausente\"\n",
    ")\n",
    "\n",
    "fct = \\\n",
    "    globo_palavras.query('sentimento != \"ausente\"')\\\n",
    "    .assign(total_count=lambda x: x.groupby(\"palavras\").palavras.transform(\"size\"))\\\n",
    "    .groupby(\"sentimento\")[[\"palavras\", \"total_count\"]]\\\n",
    "    .apply(lambda x: x.drop_duplicates(\"palavras\").nlargest(20, \"total_count\"))\\\n",
    "    .reset_index()[::-1]\\\n",
    "    .pipe((sns.FacetGrid, \"data\"), col=\"sentimento\", hue=\"sentimento\", sharey=False)\\\n",
    "\n",
    "fct.map(plt.barh, \"palavras\", \"total_count\")\n",
    "\n",
    "plt.show()"
   ]
  },
  {
   "cell_type": "code",
   "execution_count": null,
   "metadata": {},
   "outputs": [],
   "source": []
  }
 ],
 "metadata": {
  "kernelspec": {
   "display_name": "Python 3",
   "language": "python",
   "name": "python3"
  },
  "language_info": {
   "codemirror_mode": {
    "name": "ipython",
    "version": 3
   },
   "file_extension": ".py",
   "mimetype": "text/x-python",
   "name": "python",
   "nbconvert_exporter": "python",
   "pygments_lexer": "ipython3",
   "version": "3.7.6"
  }
 },
 "nbformat": 4,
 "nbformat_minor": 4
}
